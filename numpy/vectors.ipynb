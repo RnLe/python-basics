{
 "cells": [
  {
   "cell_type": "code",
   "execution_count": 1,
   "metadata": {},
   "outputs": [
    {
     "name": "stdout",
     "output_type": "stream",
     "text": [
      "[1 2 3 4 5 6]\n",
      "Shape of vec: (6,)\n",
      "Size of vec: 6\n",
      "Dimension of vec: 1\n"
     ]
    }
   ],
   "source": [
    "import numpy as np\n",
    "\n",
    "vec = np.array([1,2,3,4,5,6])\n",
    "print(vec)\n",
    "\n",
    "print('Shape of vec:', vec.shape)\n",
    "print('Size of vec:', vec.size)\n",
    "print('Dimension of vec:', vec.ndim)"
   ]
  },
  {
   "cell_type": "code",
   "execution_count": 2,
   "metadata": {},
   "outputs": [
    {
     "name": "stdout",
     "output_type": "stream",
     "text": [
      "y: [[1]\n",
      " [2]\n",
      " [3]\n",
      " [4]\n",
      " [5]\n",
      " [6]]\n",
      "Shape of y: (6, 1)\n",
      "Size of y: 6\n",
      "Dimension of y: 2\n"
     ]
    }
   ],
   "source": [
    "# reshape the existing vector into a SxF matrix\n",
    "y = vec.reshape(6, 1)\n",
    "print('y:', y)\n",
    "print('Shape of y:', y.shape)\n",
    "print('Size of y:', y.size)\n",
    "print('Dimension of y:', y.ndim)"
   ]
  },
  {
   "cell_type": "code",
   "execution_count": 55,
   "metadata": {},
   "outputs": [],
   "source": [
    "# Test several operations\n",
    "a = vec.reshape(-1, 1)\n",
    "b = vec.reshape(1, -1)\n",
    "c = vec.reshape(2, 3)\n",
    "d = vec.reshape(-1, 3)\n",
    "# e = vec.reshape(-1, -1)   ValueError: can only specify one unknown dimension\n",
    "e = vec[..., np.newaxis]\n",
    "f = c[:, np.newaxis]\n",
    "g = c[np.newaxis, :, :]\n",
    "h = c[np.newaxis, ...]\n",
    "i = np.dot(vec, vec)\n",
    "j = vec @ vec\n",
    "k = vec.T\n",
    "l = a.T\n",
    "# m = np.dot(a, vec)        ValueError: shapes (6,1) and (6,) not aligned: 1 (dim 1) != 6 (dim 0)\n",
    "# n = c @ d                 ValueError: matmul: Input operand 1 has a mismatch in its core dimension 0, with gufunc signature (n?,k),(k,m?)->(n?,m?) (size 2 is different from 3)\n",
    "o = c.T @ d\n",
    "p = c @ d.T\n",
    "q = c @ d.T @ c\n",
    "r = np.dot(c, d.T)\n",
    "s = np.matmul(c, d.T)\n",
    "t = np.dot(c, 4)\n",
    "u = np.dot(4, c)\n",
    "v = 4*c"
   ]
  },
  {
   "cell_type": "code",
   "execution_count": 56,
   "metadata": {},
   "outputs": [
    {
     "name": "stdout",
     "output_type": "stream",
     "text": [
      "a [[1]\n",
      " [2]\n",
      " [3]\n",
      " [4]\n",
      " [5]\n",
      " [6]]\n",
      "b [[1 2 3 4 5 6]] (1, 6)\n",
      "c [[1 2 3]\n",
      " [4 5 6]] (2, 3)\n",
      "d [[1 2 3]\n",
      " [4 5 6]] (2, 3)\n",
      "e [[1]\n",
      " [2]\n",
      " [3]\n",
      " [4]\n",
      " [5]\n",
      " [6]] (6, 1)\n",
      "f [[[1 2 3]]\n",
      "\n",
      " [[4 5 6]]] (2, 1, 3)\n",
      "g [[[1 2 3]\n",
      "  [4 5 6]]] (1, 2, 3)\n",
      "h [[[1 2 3]\n",
      "  [4 5 6]]] (1, 2, 3)\n",
      "i 91\n",
      "j 91\n",
      "k [1 2 3 4 5 6]\n",
      "l [[1 2 3 4 5 6]]\n",
      "o [[17 22 27]\n",
      " [22 29 36]\n",
      " [27 36 45]]\n",
      "p [[14 32]\n",
      " [32 77]]\n",
      "q [[142 188 234]\n",
      " [340 449 558]]\n",
      "r [[14 32]\n",
      " [32 77]]\n",
      "s [[14 32]\n",
      " [32 77]]\n",
      "t [[ 4  8 12]\n",
      " [16 20 24]]\n",
      "u [[ 4  8 12]\n",
      " [16 20 24]]\n",
      "v [[ 4  8 12]\n",
      " [16 20 24]]\n"
     ]
    }
   ],
   "source": [
    "print(\"a\", a)\n",
    "print(\"b\", b, b.shape)\n",
    "print(\"c\", c, c.shape)\n",
    "print(\"d\", d, d.shape)\n",
    "print(\"e\", e, e.shape)\n",
    "print(\"f\", f, f.shape)\n",
    "print(\"g\", g, g.shape)\n",
    "print(\"h\", h, h.shape)\n",
    "print(\"i\", i)\n",
    "print(\"j\", j)\n",
    "print(\"k\", k)\n",
    "print(\"l\", l)\n",
    "print(\"o\", o)\n",
    "print(\"p\", p)\n",
    "print(\"q\", q)\n",
    "print(\"r\", r)\n",
    "print(\"s\", s)\n",
    "print(\"t\", t)\n",
    "print(\"u\", u)\n",
    "print(\"v\", v)"
   ]
  },
  {
   "cell_type": "code",
   "execution_count": 64,
   "metadata": {},
   "outputs": [
    {
     "name": "stdout",
     "output_type": "stream",
     "text": [
      "[[0. 0. 0.]\n",
      " [0. 0. 0.]]\n",
      "[[0 0 0]\n",
      " [0 0 0]]\n",
      "[[1. 1. 1. 1.]\n",
      " [1. 1. 1. 1.]\n",
      " [1. 1. 1. 1.]\n",
      " [1. 1. 1. 1.]]\n",
      "[[1. 0. 0.]\n",
      " [0. 1. 0.]\n",
      " [0. 0. 1.]]\n",
      "ae [0 2 4 6 8] <class 'numpy.ndarray'>\n",
      "af range(0, 10, 2)\n"
     ]
    }
   ],
   "source": [
    "# Creating arrays\n",
    "aa = np.zeros((2, 3))\n",
    "ab = np.zeros_like(c)\n",
    "ac = np.ones((4, 4))\n",
    "ad = np.eye(3)\n",
    "ae = np.arange(0, 10, 2)\n",
    "af = range(0, 10, 2)\n",
    "\n",
    "print(aa)\n",
    "print(ab)\n",
    "print(ac)\n",
    "print(ad)\n",
    "print(\"ae\", ae, type(ae))\n",
    "print(\"af\", af)"
   ]
  },
  {
   "cell_type": "code",
   "execution_count": null,
   "metadata": {},
   "outputs": [],
   "source": []
  }
 ],
 "metadata": {
  "kernelspec": {
   "display_name": "basics",
   "language": "python",
   "name": "python3"
  },
  "language_info": {
   "codemirror_mode": {
    "name": "ipython",
    "version": 3
   },
   "file_extension": ".py",
   "mimetype": "text/x-python",
   "name": "python",
   "nbconvert_exporter": "python",
   "pygments_lexer": "ipython3",
   "version": "3.12.2"
  }
 },
 "nbformat": 4,
 "nbformat_minor": 2
}
