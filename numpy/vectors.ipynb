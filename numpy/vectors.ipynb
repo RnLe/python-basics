{
 "cells": [
  {
   "cell_type": "code",
   "execution_count": 1,
   "metadata": {},
   "outputs": [
    {
     "name": "stdout",
     "output_type": "stream",
     "text": [
      "[1 2 3 4 5 6]\n",
      "Shape of vec: (6,)\n",
      "Size of vec: 6\n",
      "Dimension of vec: 1\n"
     ]
    }
   ],
   "source": [
    "import numpy as np\n",
    "\n",
    "vec = np.array([1,2,3,4,5,6])\n",
    "print(vec)\n",
    "\n",
    "print('Shape of vec:', vec.shape)\n",
    "print('Size of vec:', vec.size)\n",
    "print('Dimension of vec:', vec.ndim)"
   ]
  },
  {
   "cell_type": "code",
   "execution_count": 2,
   "metadata": {},
   "outputs": [
    {
     "name": "stdout",
     "output_type": "stream",
     "text": [
      "y: [[1]\n",
      " [2]\n",
      " [3]\n",
      " [4]\n",
      " [5]\n",
      " [6]]\n",
      "Shape of y: (6, 1)\n",
      "Size of y: 6\n",
      "Dimension of y: 2\n"
     ]
    }
   ],
   "source": [
    "# reshape the existing vector into a SxF matrix\n",
    "y = vec.reshape(6, 1)\n",
    "print('y:', y)\n",
    "print('Shape of y:', y.shape)\n",
    "print('Size of y:', y.size)\n",
    "print('Dimension of y:', y.ndim)"
   ]
  },
  {
   "cell_type": "code",
   "execution_count": 55,
   "metadata": {},
   "outputs": [],
   "source": [
    "# Test several operations\n",
    "a = vec.reshape(-1, 1)\n",
    "b = vec.reshape(1, -1)\n",
    "c = vec.reshape(2, 3)\n",
    "d = vec.reshape(-1, 3)\n",
    "# e = vec.reshape(-1, -1)   ValueError: can only specify one unknown dimension\n",
    "e = vec[..., np.newaxis]\n",
    "f = c[:, np.newaxis]\n",
    "g = c[np.newaxis, :, :]\n",
    "h = c[np.newaxis, ...]\n",
    "i = np.dot(vec, vec)\n",
    "j = vec @ vec\n",
    "k = vec.T\n",
    "l = a.T\n",
    "# m = np.dot(a, vec)        ValueError: shapes (6,1) and (6,) not aligned: 1 (dim 1) != 6 (dim 0)\n",
    "# n = c @ d                 ValueError: matmul: Input operand 1 has a mismatch in its core dimension 0, with gufunc signature (n?,k),(k,m?)->(n?,m?) (size 2 is different from 3)\n",
    "o = c.T @ d\n",
    "p = c @ d.T\n",
    "q = c @ d.T @ c\n",
    "r = np.dot(c, d.T)\n",
    "s = np.matmul(c, d.T)\n",
    "t = np.dot(c, 4)\n",
    "u = np.dot(4, c)\n",
    "v = 4*c"
   ]
  },
  {
   "cell_type": "code",
   "execution_count": 56,
   "metadata": {},
   "outputs": [
    {
     "name": "stdout",
     "output_type": "stream",
     "text": [
      "a [[1]\n",
      " [2]\n",
      " [3]\n",
      " [4]\n",
      " [5]\n",
      " [6]]\n",
      "b [[1 2 3 4 5 6]] (1, 6)\n",
      "c [[1 2 3]\n",
      " [4 5 6]] (2, 3)\n",
      "d [[1 2 3]\n",
      " [4 5 6]] (2, 3)\n",
      "e [[1]\n",
      " [2]\n",
      " [3]\n",
      " [4]\n",
      " [5]\n",
      " [6]] (6, 1)\n",
      "f [[[1 2 3]]\n",
      "\n",
      " [[4 5 6]]] (2, 1, 3)\n",
      "g [[[1 2 3]\n",
      "  [4 5 6]]] (1, 2, 3)\n",
      "h [[[1 2 3]\n",
      "  [4 5 6]]] (1, 2, 3)\n",
      "i 91\n",
      "j 91\n",
      "k [1 2 3 4 5 6]\n",
      "l [[1 2 3 4 5 6]]\n",
      "o [[17 22 27]\n",
      " [22 29 36]\n",
      " [27 36 45]]\n",
      "p [[14 32]\n",
      " [32 77]]\n",
      "q [[142 188 234]\n",
      " [340 449 558]]\n",
      "r [[14 32]\n",
      " [32 77]]\n",
      "s [[14 32]\n",
      " [32 77]]\n",
      "t [[ 4  8 12]\n",
      " [16 20 24]]\n",
      "u [[ 4  8 12]\n",
      " [16 20 24]]\n",
      "v [[ 4  8 12]\n",
      " [16 20 24]]\n"
     ]
    }
   ],
   "source": [
    "print(\"a\", a)\n",
    "print(\"b\", b, b.shape)\n",
    "print(\"c\", c, c.shape)\n",
    "print(\"d\", d, d.shape)\n",
    "print(\"e\", e, e.shape)\n",
    "print(\"f\", f, f.shape)\n",
    "print(\"g\", g, g.shape)\n",
    "print(\"h\", h, h.shape)\n",
    "print(\"i\", i)\n",
    "print(\"j\", j)\n",
    "print(\"k\", k)\n",
    "print(\"l\", l)\n",
    "print(\"o\", o)\n",
    "print(\"p\", p)\n",
    "print(\"q\", q)\n",
    "print(\"r\", r)\n",
    "print(\"s\", s)\n",
    "print(\"t\", t)\n",
    "print(\"u\", u)\n",
    "print(\"v\", v)"
   ]
  },
  {
   "cell_type": "code",
   "execution_count": 64,
   "metadata": {},
   "outputs": [
    {
     "name": "stdout",
     "output_type": "stream",
     "text": [
      "[[0. 0. 0.]\n",
      " [0. 0. 0.]]\n",
      "[[0 0 0]\n",
      " [0 0 0]]\n",
      "[[1. 1. 1. 1.]\n",
      " [1. 1. 1. 1.]\n",
      " [1. 1. 1. 1.]\n",
      " [1. 1. 1. 1.]]\n",
      "[[1. 0. 0.]\n",
      " [0. 1. 0.]\n",
      " [0. 0. 1.]]\n",
      "ae [0 2 4 6 8] <class 'numpy.ndarray'>\n",
      "af range(0, 10, 2)\n"
     ]
    }
   ],
   "source": [
    "# Creating arrays\n",
    "aa = np.zeros((2, 3))\n",
    "ab = np.zeros_like(c)\n",
    "ac = np.ones((4, 4))\n",
    "ad = np.eye(3)\n",
    "ae = np.arange(0, 10, 2)\n",
    "af = range(0, 10, 2)\n",
    "\n",
    "print(aa)\n",
    "print(ab)\n",
    "print(ac)\n",
    "print(ad)\n",
    "print(\"ae\", ae, type(ae))\n",
    "print(\"af\", af)"
   ]
  },
  {
   "cell_type": "markdown",
   "metadata": {},
   "source": [
    "# Array Basics"
   ]
  },
  {
   "cell_type": "code",
   "execution_count": 7,
   "metadata": {},
   "outputs": [
    {
     "name": "stdout",
     "output_type": "stream",
     "text": [
      "[ 0  1  2  3  4  5  6  7  8  9 10 11 12 13 14 15 16 17 18 19 20 21 22 23\n",
      " 24 25 26 27 28 29 30 31 32 33 34 35 36 37 38 39 40 41 42 43 44 45 46 47\n",
      " 48 49 50 51 52 53 54 55 56 57 58 59 60 61 62 63 64 65 66 67 68 69 70 71\n",
      " 72 73 74 75 76 77 78 79 80 81 82 83 84 85 86 87 88 89 90 91 92 93 94 95\n",
      " 96 97 98 99]\n"
     ]
    }
   ],
   "source": [
    "import numpy as np\n",
    "array = np.array([i for i in range(100)])\n",
    "print(array)"
   ]
  },
  {
   "cell_type": "markdown",
   "metadata": {},
   "source": [
    "### Reshape array to a 10x10 matrix and access elements"
   ]
  },
  {
   "cell_type": "code",
   "execution_count": 10,
   "metadata": {},
   "outputs": [
    {
     "name": "stdout",
     "output_type": "stream",
     "text": [
      "12\n",
      "12\n",
      "[[ 0  1  2  3  4  5  6  7  8  9]\n",
      " [10 11 12 13 14 15 16 17 18 19]\n",
      " [20 21 22 23 24 25 26 27 28 29]\n",
      " [30 31 32 33 34 35 36 37 38 39]\n",
      " [40 41 42 43 44 45 46 47 48 49]\n",
      " [50 51 52 53 54 55 56 57 58 59]\n",
      " [60 61 62 63 64 65 66 67 68 69]\n",
      " [70 71 72 73 74 75 76 77 78 79]\n",
      " [80 81 82 83 84 85 86 87 88 89]\n",
      " [90 91 92 93 94 95 96 97 98 99]]\n"
     ]
    }
   ],
   "source": [
    "array = array.reshape(10, 10)\n",
    "\n",
    "i, j = 1, 2\n",
    "print(array[i][j])\n",
    "print(array[i, j])  # Better readability\n",
    "\n",
    "print(array)"
   ]
  },
  {
   "cell_type": "markdown",
   "metadata": {},
   "source": [
    "### Access specific rows or columns\n",
    "\n",
    "The ``:`` operator is used to access all elements in a row or column, depending on where it is used. For example, `a[:, 1]` will return all elements in the first column of ``a``.\n",
    "\n",
    "The ``,`` seperates the dimensions. For a 2D array, the first dimension is the row and the second dimension is the column."
   ]
  },
  {
   "cell_type": "code",
   "execution_count": 11,
   "metadata": {},
   "outputs": [
    {
     "name": "stdout",
     "output_type": "stream",
     "text": [
      "[ 1 11 21 31 41 51 61 71 81 91]\n",
      "[20 21 22 23 24 25 26 27 28 29]\n"
     ]
    }
   ],
   "source": [
    "print(array[:, i])  # i-th column\n",
    "print(array[j, :])  # j-th row"
   ]
  },
  {
   "cell_type": "markdown",
   "metadata": {},
   "source": [
    "### Ellipsis `...`\n",
    "\n",
    "This special operator is used to access all elements in a multidimensional array. For example, `a[..., 1]` will return all elements in the second column of ``a``. It is equivalent to `a[:, 1]` for a 2D array. However, it is more general and can be used for arrays with more than 2 dimensions."
   ]
  },
  {
   "cell_type": "code",
   "execution_count": 12,
   "metadata": {},
   "outputs": [
    {
     "name": "stdout",
     "output_type": "stream",
     "text": [
      "[[[ 0  1  2]\n",
      "  [ 3  4  5]\n",
      "  [ 6  7  8]]\n",
      "\n",
      " [[ 9 10 11]\n",
      "  [12 13 14]\n",
      "  [15 16 17]]\n",
      "\n",
      " [[18 19 20]\n",
      "  [21 22 23]\n",
      "  [24 25 26]]]\n"
     ]
    }
   ],
   "source": [
    "array = np.array([i for i in range(27)])\n",
    "array = array.reshape(3, 3, 3)\n",
    "print(array)"
   ]
  },
  {
   "cell_type": "code",
   "execution_count": 14,
   "metadata": {},
   "outputs": [
    {
     "name": "stdout",
     "output_type": "stream",
     "text": [
      "5\n"
     ]
    }
   ],
   "source": [
    "i, j, k = 0, 1, 2\n",
    "print(array[i, j, k])"
   ]
  },
  {
   "cell_type": "markdown",
   "metadata": {},
   "source": [
    "In this case, ``j`` and ``k`` access the rows and colums of the 3D array, respectively. The extra dimension (parallel matrices) is added to the beginning of the array-indexing."
   ]
  },
  {
   "cell_type": "code",
   "execution_count": 17,
   "metadata": {},
   "outputs": [
    {
     "name": "stdout",
     "output_type": "stream",
     "text": [
      "[[0 1 2]\n",
      " [3 4 5]\n",
      " [6 7 8]]\n",
      "[[ 3  4  5]\n",
      " [12 13 14]\n",
      " [21 22 23]]\n",
      "[[ 2  5  8]\n",
      " [11 14 17]\n",
      " [20 23 26]]\n"
     ]
    }
   ],
   "source": [
    "print(array[i, :, :])   # access all elements in the i-th matrix\n",
    "print(array[:, j, :])   # access all elements in the j-th row (of all matrices and columns)\n",
    "print(array[:, :, k])   # access all elements in the k-th column (of all matrices and rows)"
   ]
  },
  {
   "cell_type": "markdown",
   "metadata": {},
   "source": [
    "(Almost) All these slicing operations can be achieved with the ellipsis operator as well. "
   ]
  },
  {
   "cell_type": "code",
   "execution_count": 20,
   "metadata": {},
   "outputs": [
    {
     "name": "stdout",
     "output_type": "stream",
     "text": [
      "[[0 1 2]\n",
      " [3 4 5]\n",
      " [6 7 8]]\n",
      "[[ 2  5  8]\n",
      " [11 14 17]\n",
      " [20 23 26]]\n"
     ]
    }
   ],
   "source": [
    "print(array[i, ...])        # access all elements in the i-th matrix\n",
    "# print(array[..., j, ...])   # Error. The first ellipsis already covers all dimensions\n",
    "print(array[..., k])        # access all elements in the k-th column (of all matrices and rows)"
   ]
  },
  {
   "cell_type": "markdown",
   "metadata": {},
   "source": []
  }
 ],
 "metadata": {
  "kernelspec": {
   "display_name": "basics",
   "language": "python",
   "name": "python3"
  },
  "language_info": {
   "codemirror_mode": {
    "name": "ipython",
    "version": 3
   },
   "file_extension": ".py",
   "mimetype": "text/x-python",
   "name": "python",
   "nbconvert_exporter": "python",
   "pygments_lexer": "ipython3",
   "version": "3.12.2"
  }
 },
 "nbformat": 4,
 "nbformat_minor": 2
}
