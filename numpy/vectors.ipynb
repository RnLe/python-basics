{
 "cells": [
  {
   "cell_type": "code",
   "execution_count": 1,
   "metadata": {},
   "outputs": [
    {
     "name": "stdout",
     "output_type": "stream",
     "text": [
      "[1 2 3 4 5 6]\n",
      "Shape of vec: (6,)\n",
      "Size of vec: 6\n",
      "Dimension of vec: 1\n"
     ]
    }
   ],
   "source": [
    "import numpy as np\n",
    "\n",
    "vec = np.array([1,2,3,4,5,6])\n",
    "print(vec)\n",
    "\n",
    "print('Shape of vec:', vec.shape)\n",
    "print('Size of vec:', vec.size)\n",
    "print('Dimension of vec:', vec.ndim)"
   ]
  },
  {
   "cell_type": "code",
   "execution_count": 2,
   "metadata": {},
   "outputs": [
    {
     "name": "stdout",
     "output_type": "stream",
     "text": [
      "y: [[1]\n",
      " [2]\n",
      " [3]\n",
      " [4]\n",
      " [5]\n",
      " [6]]\n",
      "Shape of y: (6, 1)\n",
      "Size of y: 6\n",
      "Dimension of y: 2\n"
     ]
    }
   ],
   "source": [
    "# reshape the existing vector into a SxF matrix\n",
    "y = vec.reshape(6, 1)\n",
    "print('y:', y)\n",
    "print('Shape of y:', y.shape)\n",
    "print('Size of y:', y.size)\n",
    "print('Dimension of y:', y.ndim)"
   ]
  },
  {
   "cell_type": "code",
   "execution_count": 42,
   "metadata": {},
   "outputs": [
    {
     "ename": "ValueError",
     "evalue": "matmul: Input operand 1 has a mismatch in its core dimension 0, with gufunc signature (n?,k),(k,m?)->(n?,m?) (size 2 is different from 3)",
     "output_type": "error",
     "traceback": [
      "\u001b[0;31m---------------------------------------------------------------------------\u001b[0m",
      "\u001b[0;31mValueError\u001b[0m                                Traceback (most recent call last)",
      "Cell \u001b[0;32mIn[42], line 16\u001b[0m\n\u001b[1;32m     14\u001b[0m l \u001b[38;5;241m=\u001b[39m a\u001b[38;5;241m.\u001b[39mT\n\u001b[1;32m     15\u001b[0m \u001b[38;5;66;03m# m = np.dot(a, vec)        ValueError: shapes (6,1) and (6,) not aligned: 1 (dim 1) != 6 (dim 0)\u001b[39;00m\n\u001b[0;32m---> 16\u001b[0m n \u001b[38;5;241m=\u001b[39m \u001b[43mc\u001b[49m\u001b[43m \u001b[49m\u001b[38;5;241;43m@\u001b[39;49m\u001b[43m \u001b[49m\u001b[43md\u001b[49m\n",
      "\u001b[0;31mValueError\u001b[0m: matmul: Input operand 1 has a mismatch in its core dimension 0, with gufunc signature (n?,k),(k,m?)->(n?,m?) (size 2 is different from 3)"
     ]
    }
   ],
   "source": [
    "# Test several operations\n",
    "a = vec.reshape(-1, 1)\n",
    "b = vec.reshape(1, -1)\n",
    "c = vec.reshape(2, 3)\n",
    "d = vec.reshape(-1, 3)\n",
    "# e = vec.reshape(-1, -1)   ValueError: can only specify one unknown dimension\n",
    "e = vec[..., np.newaxis]\n",
    "f = c[:, np.newaxis]\n",
    "g = c[np.newaxis, :, :]\n",
    "h = c[np.newaxis, ...]\n",
    "i = np.dot(vec, vec)\n",
    "j = vec @ vec\n",
    "k = vec.T\n",
    "l = a.T\n",
    "# m = np.dot(a, vec)        ValueError: shapes (6,1) and (6,) not aligned: 1 (dim 1) != 6 (dim 0)\n",
    "# n = c @ d                 ValueError: matmul: Input operand 1 has a mismatch in its core dimension 0, with gufunc signature (n?,k),(k,m?)->(n?,m?) (size 2 is different from 3)"
   ]
  },
  {
   "cell_type": "code",
   "execution_count": 43,
   "metadata": {},
   "outputs": [
    {
     "name": "stdout",
     "output_type": "stream",
     "text": [
      "a [[1]\n",
      " [2]\n",
      " [3]\n",
      " [4]\n",
      " [5]\n",
      " [6]]\n",
      "b [[1 2 3 4 5 6]] (1, 6)\n",
      "c [[1 2 3]\n",
      " [4 5 6]] (2, 3)\n",
      "d [[1 2 3]\n",
      " [4 5 6]] (2, 3)\n",
      "e [[1]\n",
      " [2]\n",
      " [3]\n",
      " [4]\n",
      " [5]\n",
      " [6]] (6, 1)\n",
      "f [[[1 2 3]]\n",
      "\n",
      " [[4 5 6]]] (2, 1, 3)\n",
      "g [[[1 2 3]\n",
      "  [4 5 6]]] (1, 2, 3)\n",
      "h [[[1 2 3]\n",
      "  [4 5 6]]] (1, 2, 3)\n",
      "i 91\n",
      "j 91\n",
      "k [1 2 3 4 5 6]\n",
      "l [[1 2 3 4 5 6]]\n"
     ]
    }
   ],
   "source": [
    "print(\"a\", a)\n",
    "print(\"b\", b, b.shape)\n",
    "print(\"c\", c, c.shape)\n",
    "print(\"d\", d, d.shape)\n",
    "print(\"e\", e, e.shape)\n",
    "print(\"f\", f, f.shape)\n",
    "print(\"g\", g, g.shape)\n",
    "print(\"h\", h, h.shape)\n",
    "print(\"i\", i)\n",
    "print(\"j\", j)\n",
    "print(\"k\", k)\n",
    "print(\"l\", l)"
   ]
  },
  {
   "cell_type": "code",
   "execution_count": null,
   "metadata": {},
   "outputs": [],
   "source": []
  }
 ],
 "metadata": {
  "kernelspec": {
   "display_name": "basics",
   "language": "python",
   "name": "python3"
  },
  "language_info": {
   "codemirror_mode": {
    "name": "ipython",
    "version": 3
   },
   "file_extension": ".py",
   "mimetype": "text/x-python",
   "name": "python",
   "nbconvert_exporter": "python",
   "pygments_lexer": "ipython3",
   "version": "3.12.2"
  }
 },
 "nbformat": 4,
 "nbformat_minor": 2
}
